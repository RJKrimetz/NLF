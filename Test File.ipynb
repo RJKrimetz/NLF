{
  "cells": [
    {
      "metadata": {
        "trusted": true
      },
      "cell_type": "code",
      "source": "import pandas as pd\nimport csv",
      "execution_count": 45,
      "outputs": []
    },
    {
      "metadata": {
        "trusted": true,
        "scrolled": true
      },
      "cell_type": "code",
      "source": "file = pd.read_excel(\"Copy of Trade History.xlsx\")\nstarting_point = pd.read_excel(\"Portfolio at end of 2009.xlsx\")\nfile.head()\nstarting_point.head()\nprint(starting_point)\n\n",
      "execution_count": 2,
      "outputs": [
        {
          "output_type": "stream",
          "text": "    Unnamed: 0 Trade Date Sector Ticker            Security Description  \\\n0          NaN 2009-12-31     CD    DIS                  WALT DISNEY CO   \n1          NaN 2009-12-31     CD    MCD                 MCDONALD'S CORP   \n2          NaN 2009-12-31     CD    AZO                    AUTOZONE INC   \n3          NaN 2009-12-31     CD    VFC                         VF CORP   \n4          NaN 2009-12-31     CD    LOW            LOWE'S COMPANIES INC   \n5          NaN 2009-12-31     CS     KO           THE COCA-COLA COMPANY   \n6          NaN 2009-12-31     CS     PM  PHILIP MORRIS INTERNATIONAL IN   \n7          NaN 2009-12-31     CS    CVS                 CVS HEALTH CORP   \n8          NaN 2009-12-31     CS    RAH            RALCORP HOLDINGS INC   \n9          NaN 2009-12-31     CS    DEO                      DIAGEO PLC   \n10         NaN 2009-12-31     CS     PG    THE PROCTER & GAMBLE COMPANY   \n11         NaN 2009-12-31      E    APA                     APACHE CORP   \n12         NaN 2009-12-31      E    XOM                EXXON MOBIL CORP   \n13         NaN 2009-12-31      E     NE          NOBLE CORPORATION BAAR   \n14         NaN 2009-12-31      E    SLB                SCHLUMBERGER LTD   \n15         NaN 2009-12-31      E    CHK          CHESAPEAKE ENERGY CORP   \n16         NaN 2009-12-31      E    SWN          SOUTHWESTERN ENERGY CO   \n17         NaN 2009-12-31    FIN   HCBK         HUDSON CITY BANCORP INC   \n18         NaN 2009-12-31    FIN     GS         THE GOLDMAN SACHS GROUP   \n19         NaN 2009-12-31    FIN    BLK                   BLACKROCK INC   \n20         NaN 2009-12-31    FIN    MET                     METLIFE INC   \n21         NaN 2009-12-31    FIN    IVZ                     INVESCO LTD   \n22         NaN 2009-12-31    FIN    JPM             JPMORGAN CHASE & CO   \n23         NaN 2009-12-31    FIN     CS          CREDIT SUISSE GROUP AG   \n24         NaN 2009-12-31    FIN   SIVB             SVB FINANCIAL GROUP   \n25         NaN 2009-12-31      H   GILD             GILEAD SCIENCES INC   \n26         NaN 2009-12-31      H    ABT             ABBOTT LABORATORIES   \n27         NaN 2009-12-31      H   TEVA  TEVA PHARMACEUTICAL INDUSTRIES   \n28         NaN 2009-12-31      H    JNJ               JOHNSON & JOHNSON   \n29         NaN 2009-12-31      H    HAE                HAEMONETICS CORP   \n30         NaN 2009-12-31    IND     WM            WASTE MANAGEMENT INC   \n31         NaN 2009-12-31    IND   BUCY       BUCYRUS INTERNATIONAL INC   \n32         NaN 2009-12-31    IND    NOC           NORTHROP GRUMMAN CORP   \n33         NaN 2009-12-31    IND    UNP       UNION PACIFIC CORPORATION   \n34         NaN 2009-12-31    IND    HON     HONEYWELL INTERNATIONAL INC   \n35         NaN 2009-12-31     IT    IBM  INTERNATIONAL BUSINESS MACHINE   \n36         NaN 2009-12-31     IT  GOOGL               ALPHABET INC-CL A   \n37         NaN 2009-12-31      H   CERN                     CERNER CORP   \n38         NaN 2009-12-31     IT    APH                   AMPHENOL CORP   \n39         NaN 2009-12-31     IT   MANT   MANTECH INTERNATIONAL CORP/VA   \n40         NaN 2009-12-31     IT   SNPS                    SYNOPSYS INC   \n41         NaN 2009-12-31     IT     SY                  SYBASE INC COM   \n42         NaN 2009-12-31    MAT    FCX            FREEPORT-MCMORAN INC   \n43         NaN 2009-12-31      E    BHP                BHP BILLITON LTD   \n44         NaN 2009-12-31    MAT    PPG              PPG INDUSTRIES INC   \n45         NaN 2009-12-31    MAT     PX                     PRAXAIR INC   \n46         NaN 2009-12-31    MAT    GEF                       GREIF INC   \n47         NaN 2009-12-31     IT   CSCO               CISCO SYSTEMS INC   \n48         NaN 2009-12-31    TEL    AMT             AMERICAN TOWER CORP   \n49         NaN 2009-12-31    TEL     VZ      VERIZON COMMUNICATIONS COM   \n50         NaN 2009-12-31      U    OGE                 OGE ENERGY CORP   \n51         NaN 2009-12-31      U    NEE                   FPL GROUP INC   \n52         NaN 2009-12-31      U    WEC            WEC ENERGY GROUP INC   \n\n        Total  Shares    Price  Comm  Fees Settle Date  Principal Trade Type  \n0   -85462.50    2650   32.250    -8     0  2009-12-31  -85454.50        BUY  \n1   -79611.00    1275   62.440    -8     0  2009-12-31  -79603.00        BUY  \n2   -45840.30     290  158.070    -8     0  2009-12-31  -45832.30        BUY  \n3   -46287.68     632   73.240    -8     0  2009-12-31  -46279.68        BUY  \n4   -58475.00    2500   23.390    -8     0  2009-12-31  -58467.00        BUY  \n5   -79800.00    1400   57.000    -8     0  2009-12-31  -79792.00        BUY  \n6   -74694.50    1550   48.190    -8     0  2009-12-31  -74686.50        BUY  \n7   -88577.50    2750   32.210    -8     0  2009-12-31  -88569.50        BUY  \n8   -56724.50     950   59.710    -8     0  2009-12-31  -56716.50        BUY  \n9   -83292.00    1200   69.410    -8     0  2009-12-31  -83284.00        BUY  \n10  -97008.00    1600   60.630    -8     0  2009-12-31  -97000.00        BUY  \n11 -117613.80    1140  103.170    -8     0  2009-12-31 -117605.80        BUY  \n12 -112172.55    1645   68.190    -8     0  2009-12-31 -112164.55        BUY  \n13 -162393.00    3990   40.700    -8     0  2009-12-31 -162385.00        BUY  \n14  -67042.70    1030   65.090    -8     0  2009-12-31  -67034.70        BUY  \n15  -75699.00    2925   25.880    -8     0  2009-12-31  -75691.00        BUY  \n16  -74131.60    1538   48.200    -8     0  2009-12-31  -74123.60        BUY  \n17  -52585.90    3830   13.730    -8     0  2009-12-31  -52577.90        BUY  \n18 -105525.00     625  168.840    -8     0  2009-12-31 -105517.00        BUY  \n19  -66177.00     285  232.200    -8     0  2009-12-31  -66169.00        BUY  \n20  -47369.00    1340   35.350    -8     0  2009-12-31  -47361.00        BUY  \n21  -52382.70    2230   23.490    -8     0  2009-12-31  -52374.70        BUY  \n22 -137844.36    3308   41.670    -8     0  2009-12-31 -137836.36        BUY  \n23  -54567.60    1110   49.160    -8     0  2009-12-31  -54559.60        BUY  \n24  -49992.00    1200   41.660    -8     0  2009-12-31  -49984.00        BUY  \n25  -94544.95    2185   43.270    -8     0  2009-12-31  -94536.95        BUY  \n26 -110679.50    2050   53.990    -8     0  2009-12-31 -110671.50        BUY  \n27 -128652.20    2290   56.180    -8     0  2009-12-31 -128644.20        BUY  \n28  -67630.50    1050   64.410    -8     0  2009-12-31  -67622.50        BUY  \n29  -82725.00    1500   55.150    -8     0  2009-12-31  -82717.00        BUY  \n30  -58322.25    1725   33.810    -8     0  2009-12-31  -58314.25        BUY  \n31 -104284.50    1850   56.370    -8     0  2009-12-31 -104276.50        BUY  \n32  -69812.50    1250   55.850    -8     0  2009-12-31  -69804.50        BUY  \n33  -78277.50    1225   63.900    -8     0  2009-12-31  -78269.50        BUY  \n34 -108780.00    2775   39.200    -8     0  2009-12-31 -108772.00        BUY  \n35 -133518.00    1020  130.900    -8     0  2009-12-31 -133510.00        BUY  \n36 -142595.40     460  309.990    -8     0  2009-12-31 -142587.40        BUY  \n37 -128606.40    1560   82.440    -8     0  2009-12-31 -128598.40        BUY  \n38  -93283.60    2020   46.180    -8     0  2009-12-31  -93275.60        BUY  \n39  -70576.40    1460   48.340    -8     0  2009-12-31  -70568.40        BUY  \n40  -73412.60    3295   22.280    -8     0  2009-12-31  -73404.60        BUY  \n41  -97216.00    2240   43.400    -8     0  2009-12-31  -97208.00        BUY  \n42  -43196.02     538   80.290    -8     0  2009-12-31  -43188.02        BUY  \n43  -40204.50     525   76.580    -8     0  2009-12-31  -40196.50        BUY  \n44  -38636.40    1320   29.270    -8     0  2009-12-31  -38628.40        BUY  \n45  -16865.10     210   80.310    -8     0  2009-12-31  -16857.10        BUY  \n46  -36274.56     672   53.980    -8     0  2009-12-31  -36266.56        BUY  \n47  -30978.36    1294   23.940    -8     0  2009-12-31  -30970.36        BUY  \n48  -34568.00     800   43.210    -8     0  2009-12-31  -34560.00        BUY  \n49  -65597.40    1980   33.130    -8     0  2009-12-31  -65589.40        BUY  \n50  -36890.00    1000   36.890    -8     0  2009-12-31  -36882.00        BUY  \n51  -36974.00     700   52.820    -8     0  2009-12-31  -36966.00        BUY  \n52  -40362.30    1620   24.915    -8     0  2009-12-31  -40354.30        BUY  \n",
          "name": "stdout"
        }
      ]
    },
    {
      "metadata": {
        "trusted": true,
        "scrolled": true
      },
      "cell_type": "code",
      "source": "#Makes the starting point portfolio which will be inputed below in make_portfolio\nholdings = {}\nfor row in starting_point.itertuples():\n    holdings[row[4]] = row[7]\nprint(holdings)    \n\n#Fixing for now \nholdings.update({'FTR':\"*\"})\nprint(len(holdings))\n",
      "execution_count": 3,
      "outputs": [
        {
          "output_type": "stream",
          "text": "{'DIS': 2650, 'MCD': 1275, 'AZO': 290, 'VFC': 632, 'LOW': 2500, 'KO': 1400, 'PM': 1550, 'CVS': 2750, 'RAH': 950, 'DEO': 1200, 'PG': 1600, 'APA': 1140, 'XOM': 1645, 'NE': 3990, 'SLB': 1030, 'CHK': 2925, 'SWN': 1538, 'HCBK': 3830, 'GS': 625, 'BLK': 285, 'MET': 1340, 'IVZ': 2230, 'JPM': 3308, 'CS': 1110, 'SIVB': 1200, 'GILD': 2185, 'ABT': 2050, 'TEVA': 2290, 'JNJ': 1050, 'HAE': 1500, 'WM': 1725, 'BUCY': 1850, 'NOC': 1250, 'UNP': 1225, 'HON': 2775, 'IBM': 1020, 'GOOGL': 460, 'CERN': 1560, 'APH': 2020, 'MANT': 1460, 'SNPS': 3295, 'SY': 2240, 'FCX': 538, 'BHP': 525, 'PPG': 1320, 'PX': 210, 'GEF': 672, 'CSCO': 1294, 'AMT': 800, 'VZ': 1980, 'OGE': 1000, 'NEE': 700, 'WEC': 1620}\n54\n",
          "name": "stdout"
        }
      ]
    },
    {
      "metadata": {
        "trusted": true,
        "scrolled": false
      },
      "cell_type": "code",
      "source": "#Simple EDA\nfile.describe()\nfile.head()\nfile.tail()\nfile.dtypes",
      "execution_count": 4,
      "outputs": [
        {
          "output_type": "execute_result",
          "execution_count": 4,
          "data": {
            "text/plain": "Unnamed: 0                     float64\nTrade Date              datetime64[ns]\nSector                          object\nTicker                          object\nSecurity Description            object\nTotal                          float64\nShares                           int64\nPrice                          float64\nComm                           float64\nFees                           float64\nSettle Date             datetime64[ns]\nPrincipal                      float64\nTrade Type                      object\nUnnamed: 13                     object\nUnnamed: 14                     object\ndtype: object"
          },
          "metadata": {}
        }
      ]
    },
    {
      "metadata": {
        "trusted": true
      },
      "cell_type": "code",
      "source": "cleaned = file[['Trade Date','Sector','Ticker','Security Description','Total','Shares','Price','Comm','Fees','Principal','Trade Type']].copy()\ncleaned.columns",
      "execution_count": 5,
      "outputs": [
        {
          "output_type": "execute_result",
          "execution_count": 5,
          "data": {
            "text/plain": "Index(['Trade Date', 'Sector', 'Ticker', 'Security Description', 'Total',\n       'Shares', 'Price', 'Comm', 'Fees', 'Principal', 'Trade Type'],\n      dtype='object')"
          },
          "metadata": {}
        }
      ]
    },
    {
      "metadata": {
        "trusted": true,
        "scrolled": true
      },
      "cell_type": "code",
      "source": "cleaned.columns = ['trade_date','Sector', 'Ticker', 'Security Description', 'Total', 'Shares', 'Price','Comm', 'Fees', 'Principal', 'Trade Type']\ncleaned['Shares']= cleaned['Shares'].astype(int)\ncleaned.head(15)\ncleaned.dtypes",
      "execution_count": 6,
      "outputs": [
        {
          "output_type": "execute_result",
          "execution_count": 6,
          "data": {
            "text/plain": "trade_date              datetime64[ns]\nSector                          object\nTicker                          object\nSecurity Description            object\nTotal                          float64\nShares                           int64\nPrice                          float64\nComm                           float64\nFees                           float64\nPrincipal                      float64\nTrade Type                      object\ndtype: object"
          },
          "metadata": {}
        }
      ]
    },
    {
      "metadata": {
        "trusted": true
      },
      "cell_type": "code",
      "source": "def make_portfolio(datatable,date):\n    ts = pd.to_datetime(date)\n    \n    # Make the initial Portfoliol loaded in an an excel file name \"Starting Point\" above\n    holdings = {}\n    for row in starting_point.itertuples():\n        holdings[row[4]] = row[7]   \n        #Fixing for now \n    holdings.update({'FTR':\"*\"})\n    \n    #Create a copy of the trade history up to the provided date and execute transactions\n    \n    working = datatable[datatable.trade_date <= ts]\n\n    for row in working.itertuples():\n        type_change = row[11]\n        shares = int(row[6])\n        ticker = row[3]\n        current_date = row[1]\n\n\n        if type_change == \"ADD\":\n            holdings[ticker] = holdings.get(ticker, \"Error\") + shares \n\n        elif type_change == \"SHAVE\":\n            holdings[ticker] = holdings.get(ticker,\"Error\") + shares\n\n\n        elif type_change == \"BUY\":\n            holdings.update({ticker:shares})\n\n        elif type_change == \"SELL\":\n            holdings.pop(ticker)\n\n        else:\n            print(\"error\")\n\n    \n\n    print(len(holdings))\n    return(holdings)",
      "execution_count": 43,
      "outputs": []
    },
    {
      "metadata": {
        "trusted": true
      },
      "cell_type": "code",
      "source": " a = make_portfolio(cleaned,'3/10/2012')",
      "execution_count": 95,
      "outputs": [
        {
          "output_type": "stream",
          "text": "57\n",
          "name": "stdout"
        }
      ]
    },
    {
      "metadata": {
        "trusted": true,
        "scrolled": true
      },
      "cell_type": "code",
      "source": "use = list(a.items())\ndf=pd.DataFrame(use,columns = ['Ticker','Shares'])\ndf['Ticker'] = df['Ticker'].astype(str)\ndf.sort_values(by='Ticker')\ndf.head(50)",
      "execution_count": 110,
      "outputs": [
        {
          "output_type": "execute_result",
          "execution_count": 110,
          "data": {
            "text/html": "<div>\n<style scoped>\n    .dataframe tbody tr th:only-of-type {\n        vertical-align: middle;\n    }\n\n    .dataframe tbody tr th {\n        vertical-align: top;\n    }\n\n    .dataframe thead th {\n        text-align: right;\n    }\n</style>\n<table border=\"1\" class=\"dataframe\">\n  <thead>\n    <tr style=\"text-align: right;\">\n      <th></th>\n      <th>Ticker</th>\n      <th>Shares</th>\n    </tr>\n  </thead>\n  <tbody>\n    <tr>\n      <th>0</th>\n      <td>MCD</td>\n      <td>540</td>\n    </tr>\n    <tr>\n      <th>1</th>\n      <td>PM</td>\n      <td>1110</td>\n    </tr>\n    <tr>\n      <th>2</th>\n      <td>PG</td>\n      <td>1330</td>\n    </tr>\n    <tr>\n      <th>3</th>\n      <td>IBM</td>\n      <td>555</td>\n    </tr>\n    <tr>\n      <th>4</th>\n      <td>GOOGL</td>\n      <td>460</td>\n    </tr>\n    <tr>\n      <th>5</th>\n      <td>PPG</td>\n      <td>1320</td>\n    </tr>\n    <tr>\n      <th>6</th>\n      <td>AMT</td>\n      <td>800</td>\n    </tr>\n    <tr>\n      <th>7</th>\n      <td>VZ</td>\n      <td>1135</td>\n    </tr>\n    <tr>\n      <th>8</th>\n      <td>WEC</td>\n      <td>1620</td>\n    </tr>\n    <tr>\n      <th>9</th>\n      <td>ANTM</td>\n      <td>875</td>\n    </tr>\n    <tr>\n      <th>10</th>\n      <td>NVS</td>\n      <td>1099</td>\n    </tr>\n    <tr>\n      <th>11</th>\n      <td>WFC</td>\n      <td>3800</td>\n    </tr>\n    <tr>\n      <th>12</th>\n      <td>CB</td>\n      <td>1300</td>\n    </tr>\n    <tr>\n      <th>13</th>\n      <td>EMC</td>\n      <td>4000</td>\n    </tr>\n    <tr>\n      <th>14</th>\n      <td>COP</td>\n      <td>1252</td>\n    </tr>\n    <tr>\n      <th>15</th>\n      <td>GWW</td>\n      <td>238</td>\n    </tr>\n    <tr>\n      <th>16</th>\n      <td>CSX</td>\n      <td>1075</td>\n    </tr>\n    <tr>\n      <th>17</th>\n      <td>TJX</td>\n      <td>6840</td>\n    </tr>\n    <tr>\n      <th>18</th>\n      <td>VIAB</td>\n      <td>1340</td>\n    </tr>\n    <tr>\n      <th>19</th>\n      <td>MKC</td>\n      <td>1450</td>\n    </tr>\n    <tr>\n      <th>20</th>\n      <td>PRU</td>\n      <td>1150</td>\n    </tr>\n    <tr>\n      <th>21</th>\n      <td>OGE</td>\n      <td>635</td>\n    </tr>\n    <tr>\n      <th>22</th>\n      <td>KO</td>\n      <td>1350</td>\n    </tr>\n    <tr>\n      <th>23</th>\n      <td>DE</td>\n      <td>1075</td>\n    </tr>\n    <tr>\n      <th>24</th>\n      <td>D</td>\n      <td>1317</td>\n    </tr>\n    <tr>\n      <th>25</th>\n      <td>NE</td>\n      <td>1400</td>\n    </tr>\n    <tr>\n      <th>26</th>\n      <td>XBI</td>\n      <td>638</td>\n    </tr>\n    <tr>\n      <th>27</th>\n      <td>AAPL</td>\n      <td>2555</td>\n    </tr>\n    <tr>\n      <th>28</th>\n      <td>XOM</td>\n      <td>1472</td>\n    </tr>\n    <tr>\n      <th>29</th>\n      <td>T</td>\n      <td>875</td>\n    </tr>\n    <tr>\n      <th>30</th>\n      <td>PFE</td>\n      <td>4332</td>\n    </tr>\n    <tr>\n      <th>31</th>\n      <td>VRSN</td>\n      <td>3015</td>\n    </tr>\n    <tr>\n      <th>32</th>\n      <td>SE</td>\n      <td>1372</td>\n    </tr>\n    <tr>\n      <th>33</th>\n      <td>HNZ</td>\n      <td>1630</td>\n    </tr>\n    <tr>\n      <th>34</th>\n      <td>ABT</td>\n      <td>1249</td>\n    </tr>\n    <tr>\n      <th>35</th>\n      <td>FE</td>\n      <td>754</td>\n    </tr>\n    <tr>\n      <th>36</th>\n      <td>UTX</td>\n      <td>1150</td>\n    </tr>\n    <tr>\n      <th>37</th>\n      <td>DD</td>\n      <td>925</td>\n    </tr>\n    <tr>\n      <th>38</th>\n      <td>APA</td>\n      <td>689</td>\n    </tr>\n    <tr>\n      <th>39</th>\n      <td>M</td>\n      <td>1775</td>\n    </tr>\n    <tr>\n      <th>40</th>\n      <td>GE</td>\n      <td>5150</td>\n    </tr>\n    <tr>\n      <th>41</th>\n      <td>MS</td>\n      <td>3200</td>\n    </tr>\n    <tr>\n      <th>42</th>\n      <td>STJ</td>\n      <td>1820</td>\n    </tr>\n    <tr>\n      <th>43</th>\n      <td>RIO</td>\n      <td>578</td>\n    </tr>\n    <tr>\n      <th>44</th>\n      <td>HD</td>\n      <td>1230</td>\n    </tr>\n    <tr>\n      <th>45</th>\n      <td>MSFT</td>\n      <td>2980</td>\n    </tr>\n    <tr>\n      <th>46</th>\n      <td>IYR</td>\n      <td>1100</td>\n    </tr>\n    <tr>\n      <th>47</th>\n      <td>INTC</td>\n      <td>2055</td>\n    </tr>\n    <tr>\n      <th>48</th>\n      <td>SLB</td>\n      <td>778</td>\n    </tr>\n    <tr>\n      <th>49</th>\n      <td>JPM</td>\n      <td>2300</td>\n    </tr>\n  </tbody>\n</table>\n</div>",
            "text/plain": "   Ticker  Shares\n0     MCD     540\n1      PM    1110\n2      PG    1330\n3     IBM     555\n4   GOOGL     460\n5     PPG    1320\n6     AMT     800\n7      VZ    1135\n8     WEC    1620\n9    ANTM     875\n10    NVS    1099\n11    WFC    3800\n12     CB    1300\n13    EMC    4000\n14    COP    1252\n15    GWW     238\n16    CSX    1075\n17    TJX    6840\n18   VIAB    1340\n19    MKC    1450\n20    PRU    1150\n21    OGE     635\n22     KO    1350\n23     DE    1075\n24      D    1317\n25     NE    1400\n26    XBI     638\n27   AAPL    2555\n28    XOM    1472\n29      T     875\n30    PFE    4332\n31   VRSN    3015\n32     SE    1372\n33    HNZ    1630\n34    ABT    1249\n35     FE     754\n36    UTX    1150\n37     DD     925\n38    APA     689\n39      M    1775\n40     GE    5150\n41     MS    3200\n42    STJ    1820\n43    RIO     578\n44     HD    1230\n45   MSFT    2980\n46    IYR    1100\n47   INTC    2055\n48    SLB     778\n49    JPM    2300"
          },
          "metadata": {}
        }
      ]
    },
    {
      "metadata": {
        "trusted": true
      },
      "cell_type": "code",
      "source": "",
      "execution_count": 101,
      "outputs": [
        {
          "output_type": "execute_result",
          "execution_count": 101,
          "data": {
            "text/html": "<div>\n<style scoped>\n    .dataframe tbody tr th:only-of-type {\n        vertical-align: middle;\n    }\n\n    .dataframe tbody tr th {\n        vertical-align: top;\n    }\n\n    .dataframe thead th {\n        text-align: right;\n    }\n</style>\n<table border=\"1\" class=\"dataframe\">\n  <thead>\n    <tr style=\"text-align: right;\">\n      <th></th>\n      <th>Ticker</th>\n      <th>Shares</th>\n    </tr>\n  </thead>\n  <tbody>\n    <tr>\n      <th>0</th>\n      <td>MCD</td>\n      <td>540</td>\n    </tr>\n    <tr>\n      <th>1</th>\n      <td>PM</td>\n      <td>1110</td>\n    </tr>\n    <tr>\n      <th>2</th>\n      <td>PG</td>\n      <td>1330</td>\n    </tr>\n    <tr>\n      <th>3</th>\n      <td>IBM</td>\n      <td>555</td>\n    </tr>\n    <tr>\n      <th>4</th>\n      <td>GOOGL</td>\n      <td>460</td>\n    </tr>\n  </tbody>\n</table>\n</div>",
            "text/plain": "  Ticker  Shares\n0    MCD     540\n1     PM    1110\n2     PG    1330\n3    IBM     555\n4  GOOGL     460"
          },
          "metadata": {}
        }
      ]
    }
  ],
  "metadata": {
    "kernelspec": {
      "name": "python36",
      "display_name": "Python 3.6",
      "language": "python"
    },
    "language_info": {
      "mimetype": "text/x-python",
      "nbconvert_exporter": "python",
      "name": "python",
      "pygments_lexer": "ipython3",
      "version": "3.6.6",
      "file_extension": ".py",
      "codemirror_mode": {
        "version": 3,
        "name": "ipython"
      }
    }
  },
  "nbformat": 4,
  "nbformat_minor": 2
}