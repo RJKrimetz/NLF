{
 "cells": [
  {
   "cell_type": "code",
   "execution_count": 82,
   "metadata": {},
   "outputs": [],
   "source": [
    "import pandas as pd\n",
    "import csv\n",
    "import re"
   ]
  },
  {
   "cell_type": "code",
   "execution_count": 27,
   "metadata": {
    "scrolled": true
   },
   "outputs": [
    {
     "data": {
      "text/html": [
       "<div>\n",
       "<style scoped>\n",
       "    .dataframe tbody tr th:only-of-type {\n",
       "        vertical-align: middle;\n",
       "    }\n",
       "\n",
       "    .dataframe tbody tr th {\n",
       "        vertical-align: top;\n",
       "    }\n",
       "\n",
       "    .dataframe thead th {\n",
       "        text-align: right;\n",
       "    }\n",
       "</style>\n",
       "<table border=\"1\" class=\"dataframe\">\n",
       "  <thead>\n",
       "    <tr style=\"text-align: right;\">\n",
       "      <th></th>\n",
       "      <th>Unnamed: 0</th>\n",
       "      <th>Trade Date</th>\n",
       "      <th>Sector</th>\n",
       "      <th>Ticker</th>\n",
       "      <th>Security Description</th>\n",
       "      <th>Total</th>\n",
       "      <th>Shares</th>\n",
       "      <th>Price</th>\n",
       "      <th>Comm</th>\n",
       "      <th>Fees</th>\n",
       "      <th>Settle Date</th>\n",
       "      <th>Principal</th>\n",
       "      <th>Trade Type</th>\n",
       "    </tr>\n",
       "  </thead>\n",
       "  <tbody>\n",
       "    <tr>\n",
       "      <th>0</th>\n",
       "      <td>NaN</td>\n",
       "      <td>2009-12-31</td>\n",
       "      <td>CD</td>\n",
       "      <td>DIS</td>\n",
       "      <td>WALT DISNEY CO</td>\n",
       "      <td>-85462.50</td>\n",
       "      <td>2650</td>\n",
       "      <td>32.25</td>\n",
       "      <td>-8</td>\n",
       "      <td>0</td>\n",
       "      <td>2009-12-31</td>\n",
       "      <td>-85454.50</td>\n",
       "      <td>BUY</td>\n",
       "    </tr>\n",
       "    <tr>\n",
       "      <th>1</th>\n",
       "      <td>NaN</td>\n",
       "      <td>2009-12-31</td>\n",
       "      <td>CD</td>\n",
       "      <td>MCD</td>\n",
       "      <td>MCDONALD'S CORP</td>\n",
       "      <td>-79611.00</td>\n",
       "      <td>1275</td>\n",
       "      <td>62.44</td>\n",
       "      <td>-8</td>\n",
       "      <td>0</td>\n",
       "      <td>2009-12-31</td>\n",
       "      <td>-79603.00</td>\n",
       "      <td>BUY</td>\n",
       "    </tr>\n",
       "    <tr>\n",
       "      <th>2</th>\n",
       "      <td>NaN</td>\n",
       "      <td>2009-12-31</td>\n",
       "      <td>CD</td>\n",
       "      <td>AZO</td>\n",
       "      <td>AUTOZONE INC</td>\n",
       "      <td>-45840.30</td>\n",
       "      <td>290</td>\n",
       "      <td>158.07</td>\n",
       "      <td>-8</td>\n",
       "      <td>0</td>\n",
       "      <td>2009-12-31</td>\n",
       "      <td>-45832.30</td>\n",
       "      <td>BUY</td>\n",
       "    </tr>\n",
       "    <tr>\n",
       "      <th>3</th>\n",
       "      <td>NaN</td>\n",
       "      <td>2009-12-31</td>\n",
       "      <td>CD</td>\n",
       "      <td>VFC</td>\n",
       "      <td>VF CORP</td>\n",
       "      <td>-46287.68</td>\n",
       "      <td>632</td>\n",
       "      <td>73.24</td>\n",
       "      <td>-8</td>\n",
       "      <td>0</td>\n",
       "      <td>2009-12-31</td>\n",
       "      <td>-46279.68</td>\n",
       "      <td>BUY</td>\n",
       "    </tr>\n",
       "    <tr>\n",
       "      <th>4</th>\n",
       "      <td>NaN</td>\n",
       "      <td>2009-12-31</td>\n",
       "      <td>CD</td>\n",
       "      <td>LOW</td>\n",
       "      <td>LOWE'S COMPANIES INC</td>\n",
       "      <td>-58475.00</td>\n",
       "      <td>2500</td>\n",
       "      <td>23.39</td>\n",
       "      <td>-8</td>\n",
       "      <td>0</td>\n",
       "      <td>2009-12-31</td>\n",
       "      <td>-58467.00</td>\n",
       "      <td>BUY</td>\n",
       "    </tr>\n",
       "  </tbody>\n",
       "</table>\n",
       "</div>"
      ],
      "text/plain": [
       "   Unnamed: 0 Trade Date Sector Ticker  Security Description     Total  \\\n",
       "0         NaN 2009-12-31     CD    DIS        WALT DISNEY CO -85462.50   \n",
       "1         NaN 2009-12-31     CD    MCD       MCDONALD'S CORP -79611.00   \n",
       "2         NaN 2009-12-31     CD    AZO          AUTOZONE INC -45840.30   \n",
       "3         NaN 2009-12-31     CD    VFC               VF CORP -46287.68   \n",
       "4         NaN 2009-12-31     CD    LOW  LOWE'S COMPANIES INC -58475.00   \n",
       "\n",
       "   Shares   Price  Comm  Fees Settle Date  Principal Trade Type  \n",
       "0    2650   32.25    -8     0  2009-12-31  -85454.50        BUY  \n",
       "1    1275   62.44    -8     0  2009-12-31  -79603.00        BUY  \n",
       "2     290  158.07    -8     0  2009-12-31  -45832.30        BUY  \n",
       "3     632   73.24    -8     0  2009-12-31  -46279.68        BUY  \n",
       "4    2500   23.39    -8     0  2009-12-31  -58467.00        BUY  "
      ]
     },
     "execution_count": 27,
     "metadata": {},
     "output_type": "execute_result"
    }
   ],
   "source": [
    "file = pd.read_excel(\"Copy of Trade History.xlsx\",header=1)\n",
    "starting_point = pd.read_excel(\"Portfolio at end of 2009.xlsx\",header=1)\n",
    "file.head()\n",
    "starting_point.head()\n",
    "\n",
    "\n"
   ]
  },
  {
   "cell_type": "code",
   "execution_count": 38,
   "metadata": {
    "scrolled": true
   },
   "outputs": [
    {
     "name": "stdout",
     "output_type": "stream",
     "text": [
      "{'DIS': 2650, 'MCD': 1275, 'AZO': 290, 'VFC': 632, 'LOW': 2500, 'KO': 1400, 'PM': 1550, 'CVS': 2750, 'RAH': 950, 'DEO': 1200, 'PG': 1600, 'APA': 1140, 'XOM': 1645, 'NE': 3990, 'SLB': 1030, 'CHK': 2925, 'SWN': 1538, 'HCBK': 3830, 'GS': 625, 'BLK': 285, 'MET': 1340, 'IVZ': 2230, 'JPM': 3308, 'CS': 1110, 'SIVB': 1200, 'GILD': 2185, 'ABT': 2050, 'TEVA': 2290, 'JNJ': 1050, 'HAE': 1500, 'WM': 1725, 'BUCY': 1850, 'NOC': 1250, 'UNP': 1225, 'HON': 2775, 'IBM': 1020, 'GOOGL': 460, 'CERN': 1560, 'APH': 2020, 'MANT': 1460, 'SNPS': 3295, 'SY': 2240, 'FCX': 538, 'BHP': 525, 'PPG': 1320, 'PX': 210, 'GEF': 672, 'CSCO': 1294, 'AMT': 800, 'VZ': 1980, 'OGE': 1000, 'NEE': 700, 'WEC': 1620}\n",
      "54\n"
     ]
    }
   ],
   "source": [
    "#Makes the starting point portfolio which will be inputed below in make_portfolio\n",
    "holdings = {}\n",
    "for row in starting_point.itertuples():\n",
    "    holdings[row[4]] = row[7]\n",
    "print(holdings)    \n",
    "\n",
    "#Fixing for now \n",
    "holdings.update({'FTR':\"*\"})\n",
    "print(len(holdings))\n"
   ]
  },
  {
   "cell_type": "code",
   "execution_count": 32,
   "metadata": {
    "scrolled": false
   },
   "outputs": [
    {
     "data": {
      "text/plain": [
       "Index(['Unnamed: 0', 'Trade Date', 'Sector', 'Ticker', 'Security Description',\n",
       "       'Total', 'Shares', 'Price', 'Comm', 'Fees', 'Settle Date', 'Principal',\n",
       "       'Trade Type', 'Unnamed: 13', 'Unnamed: 14'],\n",
       "      dtype='object')"
      ]
     },
     "execution_count": 32,
     "metadata": {},
     "output_type": "execute_result"
    }
   ],
   "source": [
    "#Simple EDA\n",
    "file.describe()\n",
    "file.head()\n",
    "file.tail()\n",
    "file.dtypes\n",
    "file.columns"
   ]
  },
  {
   "cell_type": "code",
   "execution_count": 35,
   "metadata": {},
   "outputs": [
    {
     "data": {
      "text/plain": [
       "Index(['Trade Date', 'Sector', 'Ticker', 'Security Description', 'Total',\n",
       "       'Shares', 'Price', 'Comm', 'Fees', 'Principal', 'Trade Type'],\n",
       "      dtype='object')"
      ]
     },
     "execution_count": 35,
     "metadata": {},
     "output_type": "execute_result"
    }
   ],
   "source": [
    "cleaned = file[['Trade Date','Sector','Ticker','Security Description','Total','Shares','Price','Comm','Fees','Principal','Trade Type']].copy()\n",
    "cleaned.columns"
   ]
  },
  {
   "cell_type": "code",
   "execution_count": 36,
   "metadata": {
    "scrolled": true
   },
   "outputs": [
    {
     "data": {
      "text/plain": [
       "trade_date              datetime64[ns]\n",
       "Sector                          object\n",
       "Ticker                          object\n",
       "Security Description            object\n",
       "Total                          float64\n",
       "Shares                           int32\n",
       "Price                          float64\n",
       "Comm                           float64\n",
       "Fees                           float64\n",
       "Principal                      float64\n",
       "Trade Type                      object\n",
       "dtype: object"
      ]
     },
     "execution_count": 36,
     "metadata": {},
     "output_type": "execute_result"
    }
   ],
   "source": [
    "cleaned.columns = ['trade_date','Sector', 'Ticker', 'Security Description', 'Total', 'Shares', 'Price','Comm', 'Fees', 'Principal', 'Trade Type']\n",
    "cleaned['Shares']= cleaned['Shares'].astype(int)\n",
    "cleaned.head(15)\n",
    "cleaned.dtypes"
   ]
  },
  {
   "cell_type": "code",
   "execution_count": 46,
   "metadata": {},
   "outputs": [],
   "source": [
    "def make_portfolio(datatable,date):\n",
    "    ts = pd.to_datetime(date)\n",
    "    \n",
    "    # Make the initial Portfoliol loaded in an an excel file name \"Starting Point\" above\n",
    "    holdings = {}\n",
    "    for row in starting_point.itertuples():\n",
    "        holdings[row[4]] = row[7]   \n",
    "        #Fixing for now \n",
    "    holdings.update({'FTR':\"*\"})\n",
    "    \n",
    "    #Create a copy of the trade history up to the provided date and execute transactions\n",
    "    \n",
    "    working = datatable[datatable.trade_date <= ts]\n",
    "\n",
    "    for row in working.itertuples():\n",
    "        type_change = row[11]\n",
    "        shares = int(row[6])\n",
    "        ticker = row[3]\n",
    "        current_date = row[1]\n",
    "\n",
    "\n",
    "        if type_change == \"ADD\":\n",
    "            holdings[ticker] = int(holdings.get(ticker, \"Error\")) + shares \n",
    "\n",
    "        elif type_change == \"SHAVE\":\n",
    "            holdings[ticker] = holdings.get(ticker,\"Error\") + shares\n",
    "\n",
    "\n",
    "        elif type_change == \"BUY\":\n",
    "            holdings.update({ticker:shares})\n",
    "\n",
    "        elif type_change == \"SELL\":\n",
    "            holdings.pop(ticker)\n",
    "\n",
    "        else:\n",
    "            print(\"error\")\n",
    "\n",
    "    \n",
    "\n",
    "    print(len(holdings))\n",
    "    print(holdings)\n",
    "    return(holdings)"
   ]
  },
  {
   "cell_type": "code",
   "execution_count": 54,
   "metadata": {},
   "outputs": [
    {
     "name": "stdout",
     "output_type": "stream",
     "text": [
      "49\n",
      "{'MCD': 740, 'PM': 1550, 'PG': 1600, 'GS': 727, 'TEVA': 1200, 'IBM': 1020, 'GOOGL': 460, 'APH': 2020, 'PPG': 1320, 'GEF': 672, 'AMT': 800, 'VZ': 1135, 'WEC': 1620, 'MJN': 1540, 'ANTM': 1100, 'JCI': 1550, 'GE': 5519, 'NVS': 2000, 'FISV': 2080, 'NFX': 1250, 'CELG': 1850, 'CME': 300, 'WFC': 4700, 'FLR': 1620, 'SYK': 1320, 'AEP': 920, 'COST': 1048, 'CB': 1545, 'EMC': 4000, 'CTL': 740, 'COP': 1252, 'GWW': 675, 'CSX': 1075, 'VALE': 1300, 'ITC': 655, 'CCL': 1233, 'PAA': 1125, 'VLO': 3050, 'TJX': 10160, 'HES': 1220, 'PB': 1720, 'ORCL': 3075, 'VIAB': 3150, 'MKC': 1450, 'BA': 1370, 'BHI': 1329, 'C': 15500, 'PRU': 1150, 'ON': 5925}\n"
     ]
    }
   ],
   "source": [
    " a = make_portfolio(cleaned,'3/3/2011')"
   ]
  },
  {
   "cell_type": "code",
   "execution_count": 69,
   "metadata": {
    "scrolled": true
   },
   "outputs": [
    {
     "data": {
      "text/html": [
       "<div>\n",
       "<style scoped>\n",
       "    .dataframe tbody tr th:only-of-type {\n",
       "        vertical-align: middle;\n",
       "    }\n",
       "\n",
       "    .dataframe tbody tr th {\n",
       "        vertical-align: top;\n",
       "    }\n",
       "\n",
       "    .dataframe thead th {\n",
       "        text-align: right;\n",
       "    }\n",
       "</style>\n",
       "<table border=\"1\" class=\"dataframe\">\n",
       "  <thead>\n",
       "    <tr style=\"text-align: right;\">\n",
       "      <th></th>\n",
       "      <th>Ticker</th>\n",
       "      <th>Shares</th>\n",
       "    </tr>\n",
       "  </thead>\n",
       "  <tbody>\n",
       "    <tr>\n",
       "      <th>46</th>\n",
       "      <td>C</td>\n",
       "      <td>15500</td>\n",
       "    </tr>\n",
       "    <tr>\n",
       "      <th>38</th>\n",
       "      <td>TJX</td>\n",
       "      <td>10160</td>\n",
       "    </tr>\n",
       "    <tr>\n",
       "      <th>48</th>\n",
       "      <td>ON</td>\n",
       "      <td>5925</td>\n",
       "    </tr>\n",
       "    <tr>\n",
       "      <th>16</th>\n",
       "      <td>GE</td>\n",
       "      <td>5519</td>\n",
       "    </tr>\n",
       "    <tr>\n",
       "      <th>22</th>\n",
       "      <td>WFC</td>\n",
       "      <td>4700</td>\n",
       "    </tr>\n",
       "  </tbody>\n",
       "</table>\n",
       "</div>"
      ],
      "text/plain": [
       "   Ticker  Shares\n",
       "46      C   15500\n",
       "38    TJX   10160\n",
       "48     ON    5925\n",
       "16     GE    5519\n",
       "22    WFC    4700"
      ]
     },
     "execution_count": 69,
     "metadata": {},
     "output_type": "execute_result"
    }
   ],
   "source": [
    "use = list(a.items())\n",
    "df=pd.DataFrame(use,columns = ['Ticker','Shares'])\n",
    "df = df.sort_values(by='Shares',ascending = False)\n",
    "df.head()"
   ]
  },
  {
   "cell_type": "code",
   "execution_count": 77,
   "metadata": {},
   "outputs": [
    {
     "name": "stdout",
     "output_type": "stream",
     "text": [
      "      a     b     c\n",
      "0  True  True  True\n",
      "1  True  True  True\n",
      "2  True  True  True\n",
      "3  True  True  True\n"
     ]
    }
   ],
   "source": [
    "#Demonstrate how it will work\n",
    "alpha = pd.DataFrame(data = {'a':[1,2,3,4] , 'b' : [1,2,3,4] , 'c' : [1,2,3,4]})\n",
    "beta = pd.DataFrame(data = {'a':[1,2,3,4] , 'b' : [1,2,3,4] , 'c' : [1,2,3,4]})\n",
    "print(alpha == beta)"
   ]
  },
  {
   "cell_type": "code",
   "execution_count": 81,
   "metadata": {},
   "outputs": [
    {
     "data": {
      "text/html": [
       "<div>\n",
       "<style scoped>\n",
       "    .dataframe tbody tr th:only-of-type {\n",
       "        vertical-align: middle;\n",
       "    }\n",
       "\n",
       "    .dataframe tbody tr th {\n",
       "        vertical-align: top;\n",
       "    }\n",
       "\n",
       "    .dataframe thead th {\n",
       "        text-align: right;\n",
       "    }\n",
       "</style>\n",
       "<table border=\"1\" class=\"dataframe\">\n",
       "  <thead>\n",
       "    <tr style=\"text-align: right;\">\n",
       "      <th></th>\n",
       "      <th>Ticker</th>\n",
       "      <th>Shares</th>\n",
       "    </tr>\n",
       "  </thead>\n",
       "  <tbody>\n",
       "    <tr>\n",
       "      <th>0</th>\n",
       "      <td>NasdaqGS:GOOG.L</td>\n",
       "      <td>280.0</td>\n",
       "    </tr>\n",
       "    <tr>\n",
       "      <th>1</th>\n",
       "      <td>NYSE:MO</td>\n",
       "      <td>1850.0</td>\n",
       "    </tr>\n",
       "    <tr>\n",
       "      <th>2</th>\n",
       "      <td>NasdaqGS:AMZN</td>\n",
       "      <td>215.0</td>\n",
       "    </tr>\n",
       "    <tr>\n",
       "      <th>3</th>\n",
       "      <td>NYSE:AEP</td>\n",
       "      <td>700.0</td>\n",
       "    </tr>\n",
       "    <tr>\n",
       "      <th>4</th>\n",
       "      <td>NYSE:AMT</td>\n",
       "      <td>350.0</td>\n",
       "    </tr>\n",
       "  </tbody>\n",
       "</table>\n",
       "</div>"
      ],
      "text/plain": [
       "            Ticker  Shares\n",
       "0  NasdaqGS:GOOG.L   280.0\n",
       "1          NYSE:MO  1850.0\n",
       "2    NasdaqGS:AMZN   215.0\n",
       "3         NYSE:AEP   700.0\n",
       "4         NYSE:AMT   350.0"
      ]
     },
     "execution_count": 81,
     "metadata": {},
     "output_type": "execute_result"
    }
   ],
   "source": [
    "#Import the CapIQ print out\n",
    "CapIQ = pd.read_excel(\"Cap IQ Test.xlsx\")\n",
    "CapIQ.head()\n",
    "compare = CapIQ[['Ticker',\"Shares\"]].copy()\n",
    "compare.head()\n",
    "\n",
    "#Build pattern"
   ]
  }
 ],
 "metadata": {
  "kernelspec": {
   "display_name": "Python 3",
   "language": "python",
   "name": "python3"
  },
  "language_info": {
   "codemirror_mode": {
    "name": "ipython",
    "version": 3
   },
   "file_extension": ".py",
   "mimetype": "text/x-python",
   "name": "python",
   "nbconvert_exporter": "python",
   "pygments_lexer": "ipython3",
   "version": "3.7.4"
  }
 },
 "nbformat": 4,
 "nbformat_minor": 2
}
